{
 "cells": [
  {
   "cell_type": "markdown",
   "id": "3666cc0f",
   "metadata": {},
   "source": [
    "# 1:  Deep N-grams\n",
    "\n",
    "In this we will explore Recurrent Neural Networks `RNN`.\n",
    "\n",
    "In this notebook we will apply the following steps:\n",
    "- Convert a line of text into a tensor\n",
    "- Create a tensorflow dataset\n",
    "- Define a GRU model using `TensorFlow`\n",
    "- Train the model using `TensorFlow`\n",
    "- Compute the accuracy of our model using the perplexity\n",
    "- Generate text using our own model"
   ]
  },
  {
   "cell_type": "markdown",
   "id": "a4d93745",
   "metadata": {},
   "source": [
    "## Table of Contents\n",
    "\n",
    "- [Overview](#0)\n",
    "- [1 - Data Preprocessing Overview](#1)\n",
    "    - [1.1 - Loading in the Data](#1-1)\n",
    "    - [1.2 - Create the vocabulary](#1-2)\n",
    "    - [1.3 - Convert a Line to Tensor](#1-3)\n",
    "        - [line_to_tensor](#ex-1)\n",
    "    - [1.4 - Prepare our data for training and testing](#1-4)\n",
    "    - [1.5 - Tensorflow dataset](#1-5)\n",
    "    - [1.6 - Create the input and the output for our model](#1-6)\n",
    "        - [create_batch_dataset](#ex-2)\n",
    "    - [1.7 - Create the training dataset](#1-7)        \n",
    "- [2 - Defining the GRU Language Model (GRULM)](#2)\n",
    "    - [GRULM](#ex-3)\n",
    "- [3 - Training](#3)\n",
    "    - [compile_model](#ex-4)\n",
    "- [4 - Evaluation](#4)\n",
    "    - [4.1 - Evaluating using the Deep Nets](#4-1)\n",
    "    - [log_perplexity](#ex-5)\n",
    "- [5 - Generating Language with our Own Model](#5)\n",
    "    - [GenerativeModel](#ex-6)\n",
    "- [On statistical methods](#6)"
   ]
  },
  {
   "cell_type": "markdown",
   "id": "67002abe-750a-411b-937a-a386d026cca5",
   "metadata": {},
   "source": [
    "<a name='0'></a>\n",
    "## Overview\n",
    "\n",
    "In this, you'll delve into the world of text generation using Recurrent Neural Networks (RNNs). our primary objective is to predict the next set of characters based on the preceding ones. This seemingly straightforward task holds immense practicality in applications like predictive text and creative writing.\n",
    "\n",
    "The journey unfolds as follows:\n",
    "\n",
    "- Data Preprocessing: You'll start by converting lines of text into numerical tensors, making them machine-readable.\n",
    "\n",
    "- Dataset Creation: Next, you'll create a TensorFlow dataset, which will serve as the backbone for supplying data to our model.\n",
    "\n",
    "- Neural Network Training: our model will be trained to predict the next set of characters, specifying the desired output length.\n",
    "\n",
    "- Character Embeddings: Character embeddings will be employed to represent each character as a vector, a fundamental technique in natural language processing.\n",
    "\n",
    "- GRU Model: our model utilizes a Gated Recurrent Unit (GRU) to process character embeddings and make sequential predictions. The following figure gives us a summary of what we are about to implement. \n",
    "\n",
    "<img src = \"images/model.png\" style=\"width:600px;height:150px;\"/>\n",
    "\n",
    "- Prediction Process: The model's predictions are achieved through a linear layer and log-softmax computation.\n",
    "\n",
    "This overview sets the stage for our exploration of text generation. Get ready to unravel the secrets of language and embark on a journey into the realm of creative writing and predictive text generation.\n",
    "\n",
    "And as usual let's start by importing all the required libraries."
   ]
  },
  {
   "cell_type": "code",
   "execution_count": 1,
   "id": "28580a1e-6c3f-4b3e-b2ca-577ab42e4ac2",
   "metadata": {},
   "outputs": [],
   "source": [
    "import os\n",
    "import traceback\n",
    "os.environ['TF_CPP_MIN_LOG_LEVEL'] = '3'\n",
    "\n",
    "import shutil\n",
    "import numpy as np\n",
    "import random as  rnd\n",
    "\n",
    "import tensorflow as tf\n",
    "from tensorflow.keras import layers\n",
    "from tensorflow.keras.layers import Input\n",
    "\n",
    "from termcolor import colored\n",
    "\n",
    "# set random seed\n",
    "rnd.seed(32)"
   ]
  },
  {
   "cell_type": "markdown",
   "id": "553ba632-4e04-42d5-85db-6bc18185f74b",
   "metadata": {},
   "source": [
    "<a name='1'></a>\n",
    "## 1 - Data Preprocessing Overview\n",
    "\n",
    "<img src = \"images/shakespeare.png\" style=\"width:250px;height:250px;\"/>\n",
    "\n",
    "In this section, we will prepare the data for training our model. The data preparation involves the following steps:\n",
    "\n",
    "- Dataset Import: Begin by importing the dataset. Each sentence is structured as one line in the dataset. To ensure consistency, remove any extra spaces from these lines using the `strip` function.\n",
    "\n",
    "- Data Storage: Store each cleaned line in a list. This list will serve as the foundational dataset for our text generation task.\n",
    "\n",
    "- Character-Level Processing: Since the goal is character generation, it's essential to process the text at the character level, not the word level. This involves converting each individual character into a numerical representation. To achieve this:\n",
    "\n",
    "  - Use the [`tf.strings.unicode_split`](https://www.tensorflow.org/api_docs/python/tf/strings/unicode_split) function to split each sentence into its constituent characters.\n",
    "  - Utilize [`tf.keras.layers.StringLookup`](https://www.tensorflow.org/api_docs/python/tf/keras/layers/StringLookup) to map these characters to integer values. This transformation lays the foundation for character-based modeling.\n",
    "\n",
    "- TensorFlow Dataset Creation: Create a TensorFlow dataset capable of producing data in batches. Each batch will consist of `batch_size` sentences, with each sentence containing a maximum of `max_length` characters. This organized dataset is essential for training our character generation model.\n",
    "\n",
    "These preprocessing steps ensure that our dataset is meticulously prepared for the character-based text generation task, allowing us to work seamlessly with the Shakespearean corpus data.\n",
    "\n",
    "<a name='1-1'></a>\n",
    "### 1.1 - Loading in the Data"
   ]
  },
  {
   "cell_type": "code",
   "execution_count": 2,
   "id": "00d4d891-06e9-4f88-9609-bebb724c10bc",
   "metadata": {},
   "outputs": [
    {
     "name": "stdout",
     "output_type": "stream",
     "text": [
      "Number of lines: 125097\n"
     ]
    }
   ],
   "source": [
    "dirname = 'data/'\n",
    "filename = 'shakespeare_data.txt'\n",
    "lines = [] # storing all the lines in a variable. \n",
    "\n",
    "counter = 0\n",
    "\n",
    "with open(os.path.join(dirname, filename)) as files:\n",
    "    for line in files:        \n",
    "        # remove leading and trailing whitespace\n",
    "        pure_line = line.strip()#.lower()\n",
    "\n",
    "        # if pure_line is not the empty string,\n",
    "        if pure_line:\n",
    "            # append it to the list\n",
    "            lines.append(pure_line)\n",
    "            \n",
    "n_lines = len(lines)\n",
    "print(f\"Number of lines: {n_lines}\")"
   ]
  },
  {
   "cell_type": "code",
   "execution_count": 3,
   "id": "ecf7d286-9518-4f82-892a-157938b4a4c2",
   "metadata": {},
   "outputs": [
    {
     "name": "stdout",
     "output_type": "stream",
     "text": [
      "BENVOLIO\tHere were the servants of your adversary,\n",
      "And yours, close fighting ere I did approach:\n",
      "I drew to part them: in the instant came\n",
      "The fiery Tybalt, with his sword prepared,\n",
      "Which, as he breathed defiance to my ears,\n",
      "He swung about his head and cut the winds,\n",
      "Who nothing hurt withal hiss'd him in scorn:\n",
      "While we were interchanging thrusts and blows,\n"
     ]
    }
   ],
   "source": [
    "print(\"\\n\".join(lines[506:514]))"
   ]
  },
  {
   "cell_type": "markdown",
   "id": "5d17b72e-cc00-45d3-bd04-bcef51e280c8",
   "metadata": {},
   "source": [
    "<a name='1-2'></a>\n",
    "### 1.2 - Create the vocabulary\n",
    "\n",
    "In the following code cell, we will create the vocabulary for text processing. The vocabulary is a crucial component for understanding and processing text data. Here's what the code does:\n",
    "\n",
    "- Concatenate all the lines in our dataset into a single continuous text, separated by line breaks.\n",
    "\n",
    "- Identify and collect the unique characters that make up the text. This forms the basis of our vocabulary.\n",
    "\n",
    "- To enhance the vocabulary, introduce two special characters:\n",
    "\n",
    "  - [UNK]: This character represents any unknown or unrecognized characters in the text.\n",
    "  - \"\" (empty character): This character is used for padding sequences when necessary.\n",
    "- The code concludes with the display of statistics, showing the total count of unique characters in the vocabulary and providing a visual representation of the complete character set.racter set."
   ]
  },
  {
   "cell_type": "code",
   "execution_count": 4,
   "id": "1a787606-6524-49b0-abdf-691cba6856f3",
   "metadata": {},
   "outputs": [
    {
     "name": "stdout",
     "output_type": "stream",
     "text": [
      "82 unique characters\n",
      "[UNK]  \t \n",
      "   ! $ & ' ( ) , - . 0 1 2 3 4 5 6 7 8 9 : ; ? A B C D E F G H I J K L M N O P Q R S T U V W X Y Z [ ] a b c d e f g h i j k l m n o p q r s t u v w x y z |\n"
     ]
    }
   ],
   "source": [
    "text = \"\\n\".join(lines)\n",
    "# The unique characters in the file\n",
    "vocab = sorted(set(text))\n",
    "vocab.insert(0,\"[UNK]\") # Add a special character for any unknown\n",
    "vocab.insert(1,\"\") # Add the empty character for padding.\n",
    "\n",
    "print(f'{len(vocab)} unique characters')\n",
    "print(\" \".join(vocab))"
   ]
  },
  {
   "cell_type": "markdown",
   "id": "d274e4d0-9c9a-4821-94cf-5cdebe67f495",
   "metadata": {},
   "source": [
    "<a name='1-3'></a>\n",
    "### 1.3 - Convert a Line to Tensor\n",
    "\n",
    "Now that we have our list of lines, we will convert each character in that list to a number using the order given by our vocabulary. we can use [`tf.strings.unicode_split`](https://www.tensorflow.org/api_docs/python/tf/strings/unicode_split) to split the text into characters. "
   ]
  },
  {
   "cell_type": "code",
   "execution_count": 5,
   "id": "32633df3-d8f1-4780-86a7-402b404f2cd0",
   "metadata": {},
   "outputs": [
    {
     "name": "stdout",
     "output_type": "stream",
     "text": [
      "tf.Tensor([b'H' b'e' b'l' b'l' b'o' b' ' b'w' b'o' b'r' b'l' b'd' b'!'], shape=(12,), dtype=string)\n"
     ]
    }
   ],
   "source": [
    "line = \"Hello world!\"\n",
    "chars = tf.strings.unicode_split(line, input_encoding='UTF-8')\n",
    "print(chars)"
   ]
  },
  {
   "cell_type": "markdown",
   "id": "16e329bb-6c6d-4a7d-a648-f98c22f0d422",
   "metadata": {},
   "source": [
    "Using our vocabulary, we can convert the characters given by `unicode_split` into numbers. The number will be the index of the character in the given vocabulary. "
   ]
  },
  {
   "cell_type": "code",
   "execution_count": 6,
   "id": "40bad2e4-732e-4f09-85bf-a075f18bf1de",
   "metadata": {},
   "outputs": [
    {
     "name": "stdout",
     "output_type": "stream",
     "text": [
      "55\n",
      "59\n",
      "63\n",
      "69\n",
      "75\n",
      "4\n",
      "16\n",
      "17\n"
     ]
    }
   ],
   "source": [
    "print(vocab.index('a'))\n",
    "print(vocab.index('e'))\n",
    "print(vocab.index('i'))\n",
    "print(vocab.index('o'))\n",
    "print(vocab.index('u'))\n",
    "print(vocab.index(' '))\n",
    "print(vocab.index('2'))\n",
    "print(vocab.index('3'))"
   ]
  },
  {
   "cell_type": "markdown",
   "id": "e870c5f9-9dbb-445e-ae6b-9822ee15e9bc",
   "metadata": {},
   "source": [
    "Tensorflow has a function [`tf.keras.layers.StringLookup`](https://www.tensorflow.org/api_docs/python/tf/keras/layers/StringLookup)  that does this efficiently for list of characters. Note that the output object is of type `tf.Tensor`. Here is the result of applying the StringLookup function to the characters of \"Hello world\""
   ]
  },
  {
   "cell_type": "markdown",
   "id": "78361c2e-ae2c-4ac8-9925-d5e0e15e69b5",
   "metadata": {},
   "source": [
    "<a name='ex-1'></a>\n",
    "### line_to_tensor\n",
    "\n",
    "function that takes in a single line and transforms each character into its unicode integer.  This returns a list of integers, which we'll refer to as a tensor."
   ]
  },
  {
   "cell_type": "code",
   "execution_count": 7,
   "id": "94e72d28-f547-4da2-93ef-cb9e706fdbec",
   "metadata": {},
   "outputs": [],
   "source": [
    "# FUNCTION: line_to_tensor\n",
    "def line_to_tensor(line, vocab):\n",
    "    \"\"\"\n",
    "    Converts a line of text into a tensor of integer values representing characters.\n",
    "\n",
    "    Args:\n",
    "        line (str): A single line of text.\n",
    "        vocab (list): A list containing the vocabulary of unique characters.\n",
    "\n",
    "    Returns:\n",
    "        tf.Tensor(dtype=int64): A tensor containing integers (unicode values) corresponding to the characters in the `line`.\n",
    "    \"\"\"\n",
    "    ###\n",
    "\n",
    "    # Split the input line into individual characters\n",
    "    chars = tf.strings.unicode_split(line, input_encoding='UTF-8')\n",
    "    \n",
    "    # Map characters to their respective integer values using StringLookup\n",
    "    ids = tf.keras.layers.StringLookup(vocabulary=list(vocab), mask_token=None)(chars)\n",
    "    \n",
    "    ###\n",
    "\n",
    "    return ids"
   ]
  },
  {
   "cell_type": "code",
   "execution_count": 8,
   "id": "c70173d0-d208-4f73-9dcc-c06b22891c39",
   "metadata": {},
   "outputs": [
    {
     "name": "stdout",
     "output_type": "stream",
     "text": [
      "Result: [55 56 57  4 78 79 80]\n",
      "Output type: <class 'tensorflow.python.framework.ops.EagerTensor'>\n"
     ]
    }
   ],
   "source": [
    "# Test our function\n",
    "tmp_ids = line_to_tensor('abc xyz', vocab)\n",
    "print(f\"Result: {tmp_ids}\")\n",
    "print(f\"Output type: {type(tmp_ids)}\")"
   ]
  },
  {
   "cell_type": "markdown",
   "id": "96d2960d-aca8-483d-8a4b-c7313298cfbd",
   "metadata": {},
   "source": [
    "we will also need a function that produces text given a numeric tensor. This function will be useful for inspection when we use our model to generate new text, because we will be able to see words rather than lists of numbers. The function will use the inverse Lookup function `tf.keras.layers.StringLookup` with `invert=True` in its parameters."
   ]
  },
  {
   "cell_type": "code",
   "execution_count": 9,
   "id": "a6b54e5c-66ee-499f-bf16-79fb9596d40b",
   "metadata": {},
   "outputs": [],
   "source": [
    "def text_from_ids(ids, vocab):\n",
    "    \"\"\"\n",
    "    Converts a tensor of integer values into human-readable text.\n",
    "\n",
    "    Args:\n",
    "        ids (tf.Tensor): A tensor containing integer values (unicode IDs).\n",
    "        vocab (list): A list containing the vocabulary of unique characters.\n",
    "\n",
    "    Returns:\n",
    "        str: A string containing the characters in human-readable format.\n",
    "    \"\"\"\n",
    "    # Initialize the StringLookup layer to map integer IDs back to characters\n",
    "    chars_from_ids = tf.keras.layers.StringLookup(vocabulary=vocab, invert=True, mask_token=None)\n",
    "    \n",
    "    # Use the layer to decode the tensor of IDs into human-readable text\n",
    "    return tf.strings.reduce_join(chars_from_ids(ids), axis=-1)"
   ]
  },
  {
   "cell_type": "markdown",
   "id": "8395baca-4e8c-432a-9b7e-94f5a5729513",
   "metadata": {},
   "source": [
    "Use the function for decoding the tensor produced by \"Hello world!\""
   ]
  },
  {
   "cell_type": "markdown",
   "id": "ee689d6f-3bdc-4981-a479-b9e0f8595f07",
   "metadata": {},
   "source": [
    "text_from_ids(ids, vocab).numpy()"
   ]
  },
  {
   "cell_type": "markdown",
   "id": "8759b7da-a51f-4eb8-83b1-25a6659105a8",
   "metadata": {},
   "source": [
    "<a name='1-4'></a>\n",
    "### 1.4 - Prepare our data for training and testing\n",
    "As usual, we will need some data for training our model, and some data for testing its performance. So, we will use 124097 lines for training and 1000 lines for testing. "
   ]
  },
  {
   "cell_type": "code",
   "execution_count": 10,
   "id": "98a02ca3-3b73-4c86-8012-68885e05e5d5",
   "metadata": {},
   "outputs": [
    {
     "name": "stdout",
     "output_type": "stream",
     "text": [
      "Number of training lines: 124097\n",
      "Number of validation lines: 1000\n"
     ]
    }
   ],
   "source": [
    "train_lines = lines[:-1000] # Leave the rest for training\n",
    "eval_lines = lines[-1000:] # Create a holdout validation set\n",
    "\n",
    "print(f\"Number of training lines: {len(train_lines)}\")\n",
    "print(f\"Number of validation lines: {len(eval_lines)}\")"
   ]
  },
  {
   "cell_type": "markdown",
   "id": "c052cc27-acbe-481d-997b-a5195704e7b2",
   "metadata": {},
   "source": [
    "<a name='1-5'></a>\n",
    "### 1.5 - TensorFlow dataset\n",
    "\n",
    "Most of the time in Natural Language Processing, and AI in general we use batches when training our models. Here, we will build a dataset that takes in some text and returns a batch of text fragments (Not necesarly full sentences) that we will use for training.\n",
    "- The generator will produce text fragments encoded as numeric tensors of a desired length\n",
    "\n",
    "Once we create the dataset, we can iterate on it like this:\n",
    "\n",
    "```\n",
    "data_generator.take(1)\n",
    "```\n",
    "\n",
    "This generator returns the data in a format that we could directly use in our model when computing the feed-forward of our algorithm. This batch dataset generator returns batches of data in an endless way. \n",
    "\n",
    "In order to get a dataset generator that produces batches of fragments from the corpus, we first need to convert the whole text into a single line, and then transform it into a single big tensor. This is only possible if our data fits completely into memory, but that is the case here."
   ]
  },
  {
   "cell_type": "code",
   "execution_count": 11,
   "id": "7c391c29-cc63-4714-b8d6-0d9d0b073957",
   "metadata": {},
   "outputs": [
    {
     "data": {
      "text/plain": [
       "<tf.Tensor: shape=(26,), dtype=int64, numpy=\n",
       "array([34, 59, 66, 66, 69,  4, 77, 69, 72, 66, 58,  5,  3, 33, 59, 68, 59,\n",
       "       72, 55, 74, 63, 76, 59,  4, 27, 35], dtype=int64)>"
      ]
     },
     "execution_count": 11,
     "metadata": {},
     "output_type": "execute_result"
    }
   ],
   "source": [
    "all_ids = line_to_tensor(\"\\n\".join([\"Hello world!\", \"Generative AI\"]), vocab)\n",
    "all_ids"
   ]
  },
  {
   "cell_type": "markdown",
   "id": "99e2d085-e941-42a6-80d0-88a4b1bc9312",
   "metadata": {},
   "source": [
    "Create a dataset out of a tensor like input. This initial dataset will dispatch numbers in packages of a specified length. For example, we can use it for getting the 10 first encoded characters of our dataset. To make it easier to read, we can use the `text_from_ids` function."
   ]
  },
  {
   "cell_type": "code",
   "execution_count": 12,
   "id": "94f52359-febf-4594-a07e-ac380d8194ce",
   "metadata": {},
   "outputs": [
    {
     "name": "stdout",
     "output_type": "stream",
     "text": [
      "[b'H', b'e', b'l', b'l', b'o', b' ', b'w', b'o', b'r', b'l']\n"
     ]
    }
   ],
   "source": [
    "ids_dataset = tf.data.Dataset.from_tensor_slices(all_ids)\n",
    "print([text_from_ids([ids], vocab).numpy() for ids in ids_dataset.take(10)])"
   ]
  },
  {
   "cell_type": "markdown",
   "id": "642d7d9a-d5a8-46f1-83d4-badde29055e5",
   "metadata": {},
   "source": [
    "But we can configure this dataset to produce batches of the same size each time. We could use this functionality to produce text fragments of a desired size (`seq_length + 1`). We will explain later why we need an extra character into the sequence."
   ]
  },
  {
   "cell_type": "code",
   "execution_count": 13,
   "id": "e72badff-1f9d-46b5-941c-d6eb1cc63b09",
   "metadata": {},
   "outputs": [],
   "source": [
    "seq_length = 10\n",
    "data_generator = ids_dataset.batch(seq_length + 1, drop_remainder=True)"
   ]
  },
  {
   "cell_type": "markdown",
   "id": "2629554f-7f75-48ad-a7de-a63e95f07406",
   "metadata": {},
   "source": [
    "we can verify that the data generator produces encoded fragments of text of the desired length. For example, let's ask the generator to produce 2 batches of data using the function `data_generator.take(2)`"
   ]
  },
  {
   "cell_type": "code",
   "execution_count": 14,
   "id": "1f3bf1f5-1eaf-4f38-ae35-bd974b367b49",
   "metadata": {},
   "outputs": [
    {
     "name": "stdout",
     "output_type": "stream",
     "text": [
      "tf.Tensor([34 59 66 66 69  4 77 69 72 66 58], shape=(11,), dtype=int64)\n",
      "tf.Tensor([ 5  3 33 59 68 59 72 55 74 63 76], shape=(11,), dtype=int64)\n"
     ]
    }
   ],
   "source": [
    "for seq in data_generator.take(2):\n",
    "    print(seq)"
   ]
  },
  {
   "cell_type": "markdown",
   "id": "8f2926ed-6467-4d39-b915-2c5cbd2d38c7",
   "metadata": {},
   "source": [
    "But as usual, it is easier to understand if we print it in human readable characters using the 'text_from_ids' function."
   ]
  },
  {
   "cell_type": "code",
   "execution_count": 15,
   "id": "89eeb272-f4f4-4f64-a1bf-57df19ccff64",
   "metadata": {},
   "outputs": [
    {
     "name": "stdout",
     "output_type": "stream",
     "text": [
      "1. b'Hello world'\n",
      "2. b'!\\nGenerativ'\n"
     ]
    }
   ],
   "source": [
    "i = 1\n",
    "for seq in data_generator.take(2):\n",
    "    print(f\"{i}. {text_from_ids(seq, vocab).numpy()}\")\n",
    "    i = i + 1"
   ]
  },
  {
   "cell_type": "markdown",
   "id": "e81bf06e-36f1-4cbe-b384-4b760ee694e4",
   "metadata": {},
   "source": [
    "<a name='1-6'></a>\n",
    "### 1.6 - Create the input and the output for our model\n",
    "\n",
    "In this we have to predict the next character in a sequence. The following function creates 2 tensors, each with a length of `seq_length` out of the input sequence of lenght `seq_length + 1`. The first one contains the first `seq_length` elements and the second one contains the last `seq_length` elements. For example, if we split the sequence `['H', 'e', 'l', 'l', 'o']`, we will obtain the sequences `['H', 'e', 'l', 'l']` and `['e', 'l', 'l', 'o']`. "
   ]
  },
  {
   "cell_type": "code",
   "execution_count": 16,
   "id": "627e2465-7c51-4a3f-896e-9c58de90523b",
   "metadata": {},
   "outputs": [],
   "source": [
    "def split_input_target(sequence):\n",
    "    \"\"\"\n",
    "    Splits the input sequence into two sequences, where one is shifted by one position.\n",
    "\n",
    "    Args:\n",
    "        sequence (tf.Tensor or list): A list of characters or a tensor.\n",
    "\n",
    "    Returns:\n",
    "        tf.Tensor, tf.Tensor: Two tensors representing the input and output sequences for the model.\n",
    "    \"\"\"\n",
    "    # Create the input sequence by excluding the last character\n",
    "    input_text = sequence[:-1]\n",
    "    # Create the target sequence by excluding the first character\n",
    "    target_text = sequence[1:]\n",
    "\n",
    "    return input_text, target_text"
   ]
  },
  {
   "cell_type": "markdown",
   "id": "94fd7a3e-bd1a-4e86-9ef5-2db2629d7f80",
   "metadata": {},
   "source": [
    "Look the result using the following sequence of characters"
   ]
  },
  {
   "cell_type": "code",
   "execution_count": 17,
   "id": "572f158a-fe8c-43a5-8afc-9f0af2fc9e04",
   "metadata": {},
   "outputs": [
    {
     "data": {
      "text/plain": [
       "(['T', 'e', 'n', 's', 'o', 'r', 'f', 'l', 'o'],\n",
       " ['e', 'n', 's', 'o', 'r', 'f', 'l', 'o', 'w'])"
      ]
     },
     "execution_count": 17,
     "metadata": {},
     "output_type": "execute_result"
    }
   ],
   "source": [
    "split_input_target(list(\"Tensorflow\"))"
   ]
  },
  {
   "cell_type": "markdown",
   "id": "f1e82409-0f24-4a36-9098-647a7767def8",
   "metadata": {},
   "source": [
    "The first sequence will be the input and the second sequence will be the expected output"
   ]
  },
  {
   "cell_type": "markdown",
   "id": "f176ccb8-a163-4e38-bbbc-cdd1b65357ed",
   "metadata": {},
   "source": [
    "Now, put all this together into a function to create our batch dataset generator\n",
    "\n",
    "<a name='ex-2'></a>\n",
    "### create_batch_dataset\n",
    "Lets create a batch dataset from the input text. Here are some things we will need. \n",
    "\n",
    "- Join all the input lines into a single string. When we have a big dataset, we would better use a flow from directory or any other kind of generator.\n",
    "- Transform our input text into numeric tensors\n",
    "- Create a TensorFlow DataSet from our numeric tensors: Just feed the numeric tensors into the function [`tf.data.Dataset.from_tensor_slices`](https://www.tensorflow.org/api_docs/python/tf/data/Dataset#from_tensor_slices)\n",
    "- Make the dataset produce batches of data that will form a single sample each time. This is, make the dataset produce a sequence of `seq_length + 1`, rather than single numbers at each time. we can do it using the `batch` function of the already created dataset. we must specify the length of the produced sequences (`seq_length + 1`). So, the sequence length produced by the dataset will `seq_length + 1`. It must have that extra element since we will get the input and the output sequences out of the same element. `drop_remainder=True` will drop the sequences that do not have the required length. This could happen each time that the dataset reaches the end of the input sequence.\n",
    "- Use the `split_input_target` to split each element produced by the dataset into the mentioned input and output sequences.The input will have the first `seq_length` elements, and the output will have the last `seq_length`. So, after this step, the dataset generator will produce batches of pairs (input, output) sequences.\n",
    "- Create the final dataset, using `dataset_xy` as the starting point. we will configure this dataset to shuffle the data during the generation of the data with the specified BUFFER_SIZE. For performance reasons, we would like that tensorflow pre-process the data in parallel with training. That is called [`prefetching`](https://www.tensorflow.org/guide/data_performance#prefetching), and it will be configured for you."
   ]
  },
  {
   "cell_type": "code",
   "execution_count": 18,
   "id": "45cc33c9-d581-4fb1-aa2d-b42bf8ec01c0",
   "metadata": {},
   "outputs": [],
   "source": [
    "#FUNCTION: create_batch_dataset\n",
    "def create_batch_dataset(lines, vocab, seq_length=100, batch_size=64):\n",
    "    \"\"\"\n",
    "    Creates a batch dataset from a list of text lines.\n",
    "\n",
    "    Args:\n",
    "        lines (list): A list of strings with the input data, one line per row.\n",
    "        vocab (list): A list containing the vocabulary.\n",
    "        seq_length (int): The desired length of each sample.\n",
    "        batch_size (int): The batch size.\n",
    "\n",
    "    Returns:\n",
    "        tf.data.Dataset: A batch dataset generator.\n",
    "    \"\"\"\n",
    "    # Buffer size to shuffle the dataset\n",
    "    # (TF data is designed to work with possibly infinite sequences,\n",
    "    # so it doesn't attempt to shuffle the entire sequence in memory. Instead,\n",
    "    # it maintains a buffer in which it shuffles elements).\n",
    "    BUFFER_SIZE = 10000\n",
    "    \n",
    "    # For simplicity, just join all lines into a single line\n",
    "    single_line_data  = \"\\n\".join(lines)\n",
    "\n",
    "    ###\n",
    "    \n",
    "    # Convert the string into a tensor of integer values\n",
    "    all_ids = line_to_tensor(single_line_data, vocab)\n",
    "    \n",
    "    # Create a TensorFlow Dataset from the tensor of integer values\n",
    "    ids_dataset = tf.data.Dataset.from_tensor_slices(all_ids)\n",
    "    \n",
    "    # Create a batch dataset\n",
    "    data_generator = ids_dataset.batch(seq_length + 1, drop_remainder=True)\n",
    "    \n",
    "    # Map each sequence to input-output pairs\n",
    "    dataset_xy = data_generator.map(split_input_target)\n",
    "    \n",
    "    # Assemble the final dataset with shuffling, batching, and prefetching\n",
    "    dataset = (\n",
    "        dataset_xy\n",
    "        .shuffle(BUFFER_SIZE)\n",
    "        .batch(batch_size, drop_remainder=True)\n",
    "        .prefetch(tf.data.experimental.AUTOTUNE)\n",
    "    )            \n",
    "                                     \n",
    "    ###\n",
    "    \n",
    "    return dataset"
   ]
  },
  {
   "cell_type": "code",
   "execution_count": 19,
   "id": "5707a69f-0c92-4a1e-a1f4-35faa33442f6",
   "metadata": {},
   "outputs": [
    {
     "name": "stdout",
     "output_type": "stream",
     "text": [
      "Prints the elements into a single batch. The batch contains 2 elements: \n",
      "\n",
      "\u001b[94mInput0\t: b'and sight distra'\n",
      "\n",
      "\u001b[93mTarget0\t: b'nd sight distrac'\n",
      "\n",
      "\n",
      "\u001b[94mInput1\t: b'when in his fair'\n",
      "\n",
      "\u001b[93mTarget1\t: b'hen in his fair '\n"
     ]
    }
   ],
   "source": [
    "# test our function\n",
    "tf.random.set_seed(1)\n",
    "dataset = create_batch_dataset(train_lines[1:100], vocab, seq_length=16, batch_size=2)\n",
    "\n",
    "print(\"Prints the elements into a single batch. The batch contains 2 elements: \")\n",
    "\n",
    "for input_example, target_example in dataset.take(1):\n",
    "    print(\"\\n\\033[94mInput0\\t:\", text_from_ids(input_example[0], vocab).numpy())\n",
    "    print(\"\\n\\033[93mTarget0\\t:\", text_from_ids(target_example[0], vocab).numpy())\n",
    "    \n",
    "    print(\"\\n\\n\\033[94mInput1\\t:\", text_from_ids(input_example[1], vocab).numpy())\n",
    "    print(\"\\n\\033[93mTarget1\\t:\", text_from_ids(target_example[1], vocab).numpy())"
   ]
  },
  {
   "cell_type": "markdown",
   "id": "99110a52-7b52-4e5b-b1e2-b72fc316e0c8",
   "metadata": {},
   "source": [
    "<a name='1-6'></a>\n",
    "### 1.7 - Create the training dataset\n",
    "\n",
    "Now, we can generate our training dataset using the functions defined above. This will produce pairs of input/output tensors each time the batch generator creates an entry."
   ]
  },
  {
   "cell_type": "code",
   "execution_count": 20,
   "id": "c471818f-d066-462a-9766-a19dd7693f16",
   "metadata": {},
   "outputs": [],
   "source": [
    "# Batch size\n",
    "BATCH_SIZE = 64\n",
    "dataset = create_batch_dataset(train_lines, vocab, seq_length=100, batch_size=BATCH_SIZE)"
   ]
  },
  {
   "cell_type": "markdown",
   "id": "8ecb45bd-c722-4b11-822d-70d4ae276d95",
   "metadata": {},
   "source": [
    "<a name='2'></a>\n",
    "## 2 - Defining the GRU Language Model (GRULM)\n",
    "\n",
    "Now that we have the input and output tensors, we will go ahead and initialize our model. we will be implementing the `GRULM`, gated recurrent unit model. To implement this model, we will be using `TensorFlow`. Instead of implementing the `GRU` from scratch, we will use the necessary methods from a built-in package. we can use the following packages when constructing the model: \n",
    "\n",
    "- `tf.keras.layers.Embedding`: Initializes the embedding. In this case it is the size of the vocabulary by the dimension of the model. [docs](https://www.tensorflow.org/api_docs/python/tf/keras/layers/Embedding)  \n",
    "    - `Embedding(vocab_size, embedding_dim)`.\n",
    "    - `vocab_size` is the number of unique words in the given vocabulary.\n",
    "    - `embedding_dim` is the number of elements in the word embedding (some choices for a word embedding size range from 150 to 300, for example).\n",
    "___\n",
    "\n",
    "- `tf.keras.layers.GRU`: `TensorFlow` GRU layer. [docs](https://www.tensorflow.org/api_docs/python/tf/keras/layers/GRU)) Builds a traditional GRU of rnn_units with dense internal transformations. You can read the paper here: https://arxiv.org/abs/1412.3555\n",
    "    - `units`: Number of recurrent units in the layer. It must be set to `rnn_units`\n",
    "    - `return_sequences`: It specifies if the model returns a sequence of predictions. Set it to `True`\n",
    "    - `return_state`: It specifies if the model must return the last internal state along with the prediction. Set it to `True` \n",
    "___\n",
    "\n",
    "- `tf.keras.layers.Dense`: A dense layer. [docs](https://www.tensorflow.org/api_docs/python/tf/keras/layers/Dense). we must set the following parameters:\n",
    "    - `units`: Number of units in the layer. It must be set to `vocab_size`\n",
    "    - `activation`: It must be set to `log_softmax` function as described in the next line.\n",
    "___\n",
    "\n",
    "- `tf.nn.log_softmax`: Log of the output probabilities. [docs](https://www.tensorflow.org/api_docs/python/tf/nn/log_softmax)\n",
    "    - we don't need to set any parameters, just set the activation parameter as `activation=tf.nn.log_softmax`.\n",
    "___\n",
    "\n",
    "<a name='ex-3'></a>\n",
    "### 3 - GRULM\n",
    "Now let's Implement the `GRULM` class below. we should be using all the methods explained above.\n"
   ]
  },
  {
   "cell_type": "code",
   "execution_count": 21,
   "id": "c07c9d4c-b03b-4aa0-8805-c072a9883dec",
   "metadata": {},
   "outputs": [],
   "source": [
    "#CLASS: GRULM\n",
    "class GRULM(tf.keras.Model):\n",
    "    \"\"\"\n",
    "    A GRU-based language model that maps from a tensor of tokens to activations over a vocabulary.\n",
    "\n",
    "    Args:\n",
    "        vocab_size (int, optional): Size of the vocabulary. Defaults to 256.\n",
    "        embedding_dim (int, optional): Depth of embedding. Defaults to 256.\n",
    "        rnn_units (int, optional): Number of units in the GRU cell. Defaults to 128.\n",
    "\n",
    "    Returns:\n",
    "        tf.keras.Model: A GRULM language model.\n",
    "    \"\"\"\n",
    "    def __init__(self, vocab_size=256, embedding_dim=256, rnn_units=128):\n",
    "        super().__init__(self)\n",
    "\n",
    "        ###\n",
    "\n",
    "        # Create an embedding layer to map token indices to embedding vectors\n",
    "        self.embedding = tf.keras.layers.Embedding(vocab_size, embedding_dim)\n",
    "        # Define a GRU (Gated Recurrent Unit) layer for sequence modeling\n",
    "        self.gru = tf.keras.layers.GRU(rnn_units, return_sequences=True, return_state=True)\n",
    "        # Apply a dense layer with log-softmax activation to predict next tokens\n",
    "        self.dense = tf.keras.layers.Dense(vocab_size, activation=tf.nn.log_softmax)\n",
    "        \n",
    "        ###\n",
    "    \n",
    "    def call(self, inputs, states=None, return_state=False, training=False):\n",
    "        x = inputs\n",
    "        # Map input tokens to embedding vectors\n",
    "        x = self.embedding(x, training=training)\n",
    "        if states is None:\n",
    "            # Get initial state from the GRU layer\n",
    "            states = self.gru.get_initial_state(x)\n",
    "        x, states = self.gru(x, initial_state=states, training=training)\n",
    "        # Predict the next tokens and apply log-softmax activation\n",
    "        x = self.dense(x, training=training)\n",
    "        if return_state:\n",
    "            return x, states\n",
    "        else:\n",
    "            return x"
   ]
  },
  {
   "cell_type": "markdown",
   "id": "caed2481-d077-43fb-88e5-690fd25e8a77",
   "metadata": {},
   "source": [
    "Now, we can define a new GRULM model. we must set the `vocab_size` to 82; the size of the embedding `embedding_dim` to 256, and the number of units that will have recurrent neural network `rnn_units` to 512"
   ]
  },
  {
   "cell_type": "code",
   "execution_count": 22,
   "id": "8a2621ab-e48f-4649-89ad-1861f0e02961",
   "metadata": {},
   "outputs": [],
   "source": [
    "# Length of the vocabulary in StringLookup Layer\n",
    "vocab_size = 82\n",
    "\n",
    "# The embedding dimension\n",
    "embedding_dim = 256\n",
    "\n",
    "# RNN layers\n",
    "rnn_units = 512\n",
    "\n",
    "model = GRULM(\n",
    "    vocab_size=vocab_size,\n",
    "    embedding_dim=embedding_dim,\n",
    "    rnn_units = rnn_units)"
   ]
  },
  {
   "cell_type": "code",
   "execution_count": 23,
   "id": "c124e272-e385-4787-b88d-9a8da2c18299",
   "metadata": {},
   "outputs": [
    {
     "name": "stdout",
     "output_type": "stream",
     "text": [
      "Model: \"grulm\"\n",
      "_________________________________________________________________\n",
      " Layer (type)                Output Shape              Param #   \n",
      "=================================================================\n",
      " embedding (Embedding)       (None, 100, 256)          20992     \n",
      "                                                                 \n",
      " gru (GRU)                   [(None, 100, 512),        1182720   \n",
      "                              (None, 512)]                       \n",
      "                                                                 \n",
      " dense (Dense)               (None, 100, 82)           42066     \n",
      "                                                                 \n",
      "=================================================================\n",
      "Total params: 1,245,778\n",
      "Trainable params: 1,245,778\n",
      "Non-trainable params: 0\n",
      "_________________________________________________________________\n"
     ]
    }
   ],
   "source": [
    "# testing our model\n",
    "\n",
    "try:\n",
    "    # Simulate inputs of length 100. This allows to compute the shape of all inputs and outputs of our network\n",
    "    model.build(input_shape=(BATCH_SIZE, 100))\n",
    "    model.call(Input(shape=(100)))\n",
    "    model.summary() \n",
    "except:\n",
    "    print(\"\\033[91mError! \\033[0mA problem occurred while building our model. This error can occur due to wrong initialization of the return_sequences parameter\\n\\n\")\n",
    "    traceback.print_exc()"
   ]
  },
  {
   "cell_type": "markdown",
   "id": "040dd10e-528f-4de3-8410-e9bfc80a9cc6",
   "metadata": {},
   "source": [
    "Now, let's use the model for predicting the next character using the untrained model. At the begining the model will generate only gibberish."
   ]
  },
  {
   "cell_type": "code",
   "execution_count": 24,
   "id": "50da5e2c-668e-41ed-b692-01187e3d94b1",
   "metadata": {},
   "outputs": [
    {
     "name": "stdout",
     "output_type": "stream",
     "text": [
      "Input:  [55  4 57 55 75 73 59 66 59 73 73  4 60 55 68 74 55 73 79 11  3 27 68 58\n",
      "  4 57 62 63 66 58 63 73 62  4 59 72 72 69 72 11  4 74 62 55 74  4 74 62\n",
      " 59 79  4 55 72 59  4 55 60 72 55 63 58 25  3 28 63 58 73  4 74 62 59 67\n",
      "  4 66 59 55 76 59  4 71 75 55 65 63 68 61 11  4 56 63 58 73  4 74 62 59\n",
      " 67  4 60 59]\n",
      "\n",
      " (1, 100, 82) # (batch_size, sequence_length, vocab_size)\n"
     ]
    }
   ],
   "source": [
    "for input_example_batch, target_example_batch in dataset.take(1):\n",
    "    print(\"Input: \", input_example_batch[0].numpy()) # Lets use only the first sequence on the batch\n",
    "    example_batch_predictions = model(tf.constant([input_example_batch[0].numpy()]))\n",
    "    print(\"\\n\",example_batch_predictions.shape, \"# (batch_size, sequence_length, vocab_size)\")"
   ]
  },
  {
   "cell_type": "markdown",
   "id": "87cd792b-311e-4103-af91-649d3a17c1ee",
   "metadata": {},
   "source": [
    "The output size is (1, 100, 82). We predicted only on the first sequence generated by the batch generator. 100 is the number of predicted characters. It has exactly the same length as the input. And there are 82 values for each predicted character. Each of these 82 real values are related to the logarithm likelihood of each character to be the next one in the sequence. The bigger the value, the higher the likelihood. As the network is not trained yet, all those values must be very similar and random. Just check the values for the last prediction on the sequence."
   ]
  },
  {
   "cell_type": "code",
   "execution_count": 25,
   "id": "774e4975-0508-45bc-b22c-ada45985bde0",
   "metadata": {},
   "outputs": [
    {
     "data": {
      "text/plain": [
       "array([-4.414955 , -4.4210873, -4.4031324, -4.4064994, -4.407753 ,\n",
       "       -4.4177003, -4.398801 , -4.414058 , -4.401907 , -4.3995175,\n",
       "       -4.3981104, -4.4146614, -4.4030724, -4.4065   , -4.4072433,\n",
       "       -4.426503 , -4.4073563, -4.41889  , -4.4142785, -4.4125185,\n",
       "       -4.408944 , -4.398369 , -4.3900857, -4.3986354, -4.4018908,\n",
       "       -4.40355  , -4.398396 , -4.425095 , -4.4168234, -4.4045587,\n",
       "       -4.414793 , -4.423625 , -4.4079046, -4.387917 , -4.4044228,\n",
       "       -4.400095 , -4.3967414, -4.418302 , -4.409538 , -4.413951 ,\n",
       "       -4.39556  , -4.381966 , -4.4066544, -4.425118 , -4.383355 ,\n",
       "       -4.4090037, -4.4043145, -4.417834 , -4.408311 , -4.4066057,\n",
       "       -4.401214 , -4.4049563, -4.417294 , -4.401831 , -4.413064 ,\n",
       "       -4.3971887, -4.406681 , -4.416766 , -4.4177737, -4.4150267,\n",
       "       -4.4211144, -4.3954144, -4.418568 , -4.409894 , -4.4002156,\n",
       "       -4.380377 , -4.4126773, -4.400333 , -4.4100676, -4.413075 ,\n",
       "       -4.394363 , -4.418049 , -4.394827 , -4.396073 , -4.395334 ,\n",
       "       -4.3990946, -4.398256 , -4.4153433, -4.401474 , -4.4221997,\n",
       "       -4.4121103, -4.397588 ], dtype=float32)"
      ]
     },
     "execution_count": 25,
     "metadata": {},
     "output_type": "execute_result"
    }
   ],
   "source": [
    "example_batch_predictions[0][99].numpy()"
   ]
  },
  {
   "cell_type": "markdown",
   "id": "a3b86c28-688f-41f9-985c-4415870a4849",
   "metadata": {},
   "source": [
    "And the simplest way to choose the next character is by getting the index of the element with the highest likelihood. So, for instance, the prediction for the last characeter would be:"
   ]
  },
  {
   "cell_type": "code",
   "execution_count": 26,
   "id": "e5aaf32d-4fe6-4075-8cee-bda20101ebde",
   "metadata": {},
   "outputs": [
    {
     "name": "stdout",
     "output_type": "stream",
     "text": [
      "65\n"
     ]
    }
   ],
   "source": [
    "last_character = tf.math.argmax(example_batch_predictions[0][99])\n",
    "print(last_character.numpy())"
   ]
  },
  {
   "cell_type": "markdown",
   "id": "1f0ab692-1363-4c51-a3b4-d61bb30ed2db",
   "metadata": {},
   "source": [
    "And the prediction for the whole sequence would be:"
   ]
  },
  {
   "cell_type": "code",
   "execution_count": 27,
   "id": "4d28b001-dcdc-498d-be42-086776fd6152",
   "metadata": {},
   "outputs": [
    {
     "name": "stdout",
     "output_type": "stream",
     "text": [
      "[23 41  6 71 48 25 44  8 44  8 21 41 65 23 50 73 73 25 36 17 28 28 28 48\n",
      " 72 45  6 28 28 27  1  1 27  6 41 73 73 75 43 54 54 54  6 71 73 41 73  6\n",
      "  6 24 41 41 73 44 41 41 23 23 23 22 27 59 27 17 56 56 25 41 29  6  6 73\n",
      " 41 12 44 41 77 44 41 41 48 73 58  1  1 35 54 54 41 28 13 25 41 29  6  6\n",
      " 73 41 29 65]\n"
     ]
    }
   ],
   "source": [
    "sampled_indices = tf.math.argmax(example_batch_predictions[0], axis=1)\n",
    "print(sampled_indices.numpy())"
   ]
  },
  {
   "cell_type": "markdown",
   "id": "9db97bcc-4f41-4e08-be1c-f2dc9e831c76",
   "metadata": {},
   "source": [
    "Those 100 numbers represent 100 predicted characters. However, humans cannot read this. So, let's print the input and output sequences using our `text_from_ids` function, to check what is going on."
   ]
  },
  {
   "cell_type": "code",
   "execution_count": 28,
   "id": "ec999d2a-313d-4a9f-aaaa-04b6a459e748",
   "metadata": {},
   "outputs": [
    {
     "name": "stdout",
     "output_type": "stream",
     "text": [
      "Input:\n",
      " tf.Tensor(b'a causeless fantasy,\\nAnd childish error, that they are afraid;\\nBids them leave quaking, bids them fe', shape=(), dtype=string)\n",
      "\n",
      "Next Char Predictions:\n",
      " tf.Tensor(b\"9O$qV;R'R'7Ok9Xss;J3BBBVrS$BBAA$OssuQ]]]$qsOs$$:OOsROO9998AeA3bb;OC$$sO-ROwROOVsdI]]OB.;OC$$sOCk\", shape=(), dtype=string)\n"
     ]
    }
   ],
   "source": [
    "print(\"Input:\\n\", text_from_ids(input_example_batch[0], vocab))\n",
    "print()\n",
    "print(\"Next Char Predictions:\\n\", text_from_ids(sampled_indices, vocab))"
   ]
  },
  {
   "cell_type": "markdown",
   "id": "a7eefd8f-5135-4ed5-87fc-6cd81fcb2caa",
   "metadata": {},
   "source": [
    "As expected, the untrained model just produces random text as response of the given input. It is also important to note that getting the index of the maximum score is not always the best choice. In the last part of the notebook we will see another way to do it."
   ]
  },
  {
   "cell_type": "markdown",
   "id": "0b4c3db6-017e-4a15-b486-e247c3e89ba0",
   "metadata": {},
   "source": [
    "<a name='3'></a>\n",
    "## 3 - Training\n",
    "\n",
    "Now we are going to train our model. As usual, we have to define the cost function and the optimizer. we will use the following built-in functions provided by TensorFlow: \n",
    "\n",
    "- [`tf.losses.SparseCategoricalCrossentropy()`](https://www.tensorflow.org/api_docs/python/tf/keras/losses/SparseCategoricalCrossentropy): The Sparce Categorical Cross Entropy loss. It is the loss function used for multiclass classification.    \n",
    "    - `from_logits=True`: This parameter informs the loss function that the output values generated by the model are not normalized like a probability distribution. This is our case, since our GRULM model uses a `log_softmax` activation rather than the `softmax`.\n",
    "- [`tf.keras.optimizers.Adam`](https://www.tensorflow.org/api_docs/python/tf/keras/optimizers/Adam): Use Adaptive Moment Estimation, a stochastic gradient descent method optimizer that works well in most of the cases. Set the `learning_rate` to 0.00125. \n",
    "\n",
    "<a name='ex-4'></a>\n",
    "### compile_model\n",
    "\n",
    "Let's Compile the GRULM model using a `SparseCategoricalCrossentropy` loss and the `Adam` optimizer"
   ]
  },
  {
   "cell_type": "code",
   "execution_count": 29,
   "id": "67617cd9-3d9f-400c-a581-5ec60d3b1e2c",
   "metadata": {},
   "outputs": [],
   "source": [
    "#FUNCTION: Compile model\n",
    "def compile_model(model):\n",
    "    \"\"\"\n",
    "    Sets the loss and optimizer for the given model\n",
    "\n",
    "    Args:\n",
    "        model (tf.keras.Model): The model to compile.\n",
    "\n",
    "    Returns:\n",
    "        tf.keras.Model: The compiled model.\n",
    "    \"\"\"\n",
    "    ###\n",
    "\n",
    "    # Define the loss function. Use SparseCategoricalCrossentropy\n",
    "    loss = tf.keras.losses.SparseCategoricalCrossentropy(from_logits=True)\n",
    "    \n",
    "    # Define an Adam optimizer with the specified learning rate\n",
    "    opt = tf.keras.optimizers.Adam(learning_rate=0.00125)\n",
    "    \n",
    "    # Compile the model using the parametrized Adam optimizer and the SparseCategoricalCrossentropy function\n",
    "    model.compile(optimizer=opt, loss=loss)\n",
    "    \n",
    "    ###\n",
    "\n",
    "    return model"
   ]
  },
  {
   "cell_type": "markdown",
   "id": "70fb1118-8671-4f85-a313-1ea8bf506e5c",
   "metadata": {},
   "source": [
    "Now, train our model for 30 epochs. With GPU this should take about one minute. With CPU this could take several minutes."
   ]
  },
  {
   "cell_type": "code",
   "execution_count": 30,
   "id": "dba114e1-a809-4fb9-a6a6-a2ded5e97b27",
   "metadata": {},
   "outputs": [
    {
     "name": "stdout",
     "output_type": "stream",
     "text": [
      "Epoch 1/30\n",
      "790/790 [==============================] - 18s 20ms/step - loss: 2.0157\n",
      "Epoch 2/30\n",
      "790/790 [==============================] - 17s 20ms/step - loss: 1.4810\n",
      "Epoch 3/30\n",
      "790/790 [==============================] - 17s 21ms/step - loss: 1.3801\n",
      "Epoch 4/30\n",
      "790/790 [==============================] - 18s 21ms/step - loss: 1.3336\n",
      "Epoch 5/30\n",
      "790/790 [==============================] - 18s 22ms/step - loss: 1.3044\n",
      "Epoch 6/30\n",
      "790/790 [==============================] - 19s 23ms/step - loss: 1.2829\n",
      "Epoch 7/30\n",
      "790/790 [==============================] - 19s 23ms/step - loss: 1.2659\n",
      "Epoch 8/30\n",
      "790/790 [==============================] - 19s 22ms/step - loss: 1.2527\n",
      "Epoch 9/30\n",
      "790/790 [==============================] - 19s 23ms/step - loss: 1.2415\n",
      "Epoch 10/30\n",
      "790/790 [==============================] - 19s 23ms/step - loss: 1.2320\n",
      "Epoch 11/30\n",
      "790/790 [==============================] - 19s 23ms/step - loss: 1.2240\n",
      "Epoch 12/30\n",
      "790/790 [==============================] - 19s 23ms/step - loss: 1.2169\n",
      "Epoch 13/30\n",
      "790/790 [==============================] - 19s 23ms/step - loss: 1.2108\n",
      "Epoch 14/30\n",
      "790/790 [==============================] - 19s 23ms/step - loss: 1.2053\n",
      "Epoch 15/30\n",
      "790/790 [==============================] - 19s 23ms/step - loss: 1.2006\n",
      "Epoch 16/30\n",
      "790/790 [==============================] - 19s 23ms/step - loss: 1.1962\n",
      "Epoch 17/30\n",
      "790/790 [==============================] - 19s 23ms/step - loss: 1.1923\n",
      "Epoch 18/30\n",
      "790/790 [==============================] - 19s 22ms/step - loss: 1.1889\n",
      "Epoch 19/30\n",
      "790/790 [==============================] - 18s 22ms/step - loss: 1.1863\n",
      "Epoch 20/30\n",
      "790/790 [==============================] - 19s 22ms/step - loss: 1.1837\n",
      "Epoch 21/30\n",
      "790/790 [==============================] - 19s 23ms/step - loss: 1.1813\n",
      "Epoch 22/30\n",
      "790/790 [==============================] - 19s 23ms/step - loss: 1.1791\n",
      "Epoch 23/30\n",
      "790/790 [==============================] - 19s 23ms/step - loss: 1.1777\n",
      "Epoch 24/30\n",
      "790/790 [==============================] - 19s 23ms/step - loss: 1.1761\n",
      "Epoch 25/30\n",
      "790/790 [==============================] - 19s 23ms/step - loss: 1.1747\n",
      "Epoch 26/30\n",
      "790/790 [==============================] - 19s 23ms/step - loss: 1.1737\n",
      "Epoch 27/30\n",
      "790/790 [==============================] - 19s 22ms/step - loss: 1.1724\n",
      "Epoch 28/30\n",
      "790/790 [==============================] - 19s 22ms/step - loss: 1.1711\n",
      "Epoch 29/30\n",
      "790/790 [==============================] - 19s 22ms/step - loss: 1.1704\n",
      "Epoch 30/30\n",
      "790/790 [==============================] - 19s 23ms/step - loss: 1.1698\n"
     ]
    }
   ],
   "source": [
    "EPOCHS = 30\n",
    "\n",
    "# Compile the model\n",
    "model = compile_model(model)\n",
    "# Fit the model\n",
    "history = model.fit(dataset, epochs=EPOCHS)"
   ]
  },
  {
   "cell_type": "code",
   "execution_count": 31,
   "id": "cba9c46e-48f9-4611-bfce-be91360e05a2",
   "metadata": {},
   "outputs": [],
   "source": [
    "import shutil\n",
    "import os\n",
    "\n",
    "output_dir = './model/'\n",
    "\n",
    "if os.path.exists(output_dir):\n",
    "    shutil.rmtree(output_dir)\n",
    "\n",
    "os.makedirs(output_dir, exist_ok=True)  \n",
    "model.save_weights(output_dir)"
   ]
  },
  {
   "cell_type": "markdown",
   "id": "53c52c65-c1f6-40dc-8d5b-4b038f8265e3",
   "metadata": {},
   "source": [
    "<a name='4'></a>\n",
    "## 4 - Evaluation  \n",
    "<a name='4-1'></a>\n",
    "### 4.1 - Evaluating using the Deep Nets\n",
    "\n",
    "Now that we have learned how to train a model, we will learn how to evaluate it. To evaluate language models, we usually use perplexity which is a measure of how well a probability model predicts a sample. Note that perplexity is defined as: \n",
    "\n",
    "$$P(W) = \\sqrt[N]{\\prod_{i=1}^{N} \\frac{1}{P(w_i| w_1,...,w_{n-1})}}$$\n",
    "\n",
    "As an implementation hack, we would usually take the log of that formula (to enable us to use the log probabilities we get as output of our `RNN`, convert exponents to products, and products into sums which makes computations less complicated and computationally more efficient). \n",
    "\n",
    "\n",
    "$$\\log P(W) = {\\log\\left(\\sqrt[N]{\\prod_{i=1}^{N} \\frac{1}{P(w_i| w_1,...,w_{n-1})}}\\right)}$$$$ = \\log\\left(\\left(\\prod_{i=1}^{N} \\frac{1}{P(w_i| w_1,...,w_{n-1})}\\right)^{\\frac{1}{N}}\\right)$$\n",
    "$$ = \\log\\left(\\left({\\prod_{i=1}^{N}{P(w_i| w_1,...,w_{n-1})}}\\right)^{-\\frac{1}{N}}\\right)$$$$ = -\\frac{1}{N}{\\log\\left({\\prod_{i=1}^{N}{P(w_i| w_1,...,w_{n-1})}}\\right)} $$$$ = -\\frac{1}{N}{{\\sum_{i=1}^{N}{\\log P(w_i| w_1,...,w_{n-1})}}} $$\n",
    "\n",
    "<a name='ex-5'></a>\n",
    "### log_perplexity\n",
    "Writing a program that will help evaluate our model. Implementation hack: our program takes in `preds` and `target`. `preds` is a tensor of log probabilities. we can use [`tf.one_hot`](https://www.tensorflow.org/api_docs/python/tf/one_hot) to transform the `target` into the same dimension. we then multiply them and sum them. For the sake of simplicity, we suggest you use the NumPy functions [`sum`](https://numpy.org/doc/stable/reference/generated/numpy.sum.html), [`mean`](https://numpy.org/doc/stable/reference/generated/numpy.mean.html) and [`equal`](https://numpy.org/doc/stable/reference/generated/numpy.equal.html), Good luck! "
   ]
  },
  {
   "cell_type": "code",
   "execution_count": 32,
   "id": "aaccd364-2271-48e9-8d2d-f69936795e01",
   "metadata": {},
   "outputs": [],
   "source": [
    "# FUNCTION: log_perplexity\n",
    "def log_perplexity(preds, target):\n",
    "    \"\"\"\n",
    "    Function to calculate the log perplexity of a model.\n",
    "\n",
    "    Args:\n",
    "        preds (tf.Tensor): Predictions of a list of batches of tensors corresponding to lines of text.\n",
    "        target (tf.Tensor): Actual list of batches of tensors corresponding to lines of text.\n",
    "\n",
    "    Returns:\n",
    "        float: The log perplexity of the model.\n",
    "    \"\"\"\n",
    "    PADDING_ID = 1\n",
    "    \n",
    "    ###\n",
    "    \n",
    "    # Calculate log probabilities for predictions using one-hot encoding\n",
    "    log_p = np.sum(preds * tf.one_hot(target, preds.shape[-1]), axis= -1) # HINT: tf.one_hot() should replace one of the Nones\n",
    "    # Identify non-padding elements in the target\n",
    "    non_pad = 1.0 - np.equal(target, PADDING_ID)          # we should check if the target equals to PADDING_ID\n",
    "    # Apply non-padding mask to log probabilities to exclude padding\n",
    "    log_p = log_p * non_pad                             # Get rid of the padding\n",
    "    # Calculate the log perplexity by taking the sum of log probabilities and dividing by the sum of non-padding elements\n",
    "    log_ppx = np.sum(log_p, axis = -1) / np.sum(non_pad, axis = -1) # Remember to set the axis properly when summing up\n",
    "    # Compute the mean of log perplexity\n",
    "    log_ppx = np.mean(log_ppx) # Compute the mean of the previous expression\n",
    "        \n",
    "    ###\n",
    "    \n",
    "    return -log_ppx"
   ]
  },
  {
   "cell_type": "markdown",
   "id": "a2f996b1-486b-41af-8804-8b1b71db7b32",
   "metadata": {},
   "source": [
    "Now load the provided pretrained model just to ensure. we need to instantiate the GRULM model and then load the saved weights."
   ]
  },
  {
   "cell_type": "code",
   "execution_count": 33,
   "id": "f7f5067e-daa5-41c7-ba31-1f228faf147d",
   "metadata": {},
   "outputs": [
    {
     "data": {
      "text/plain": [
       "<tensorflow.python.checkpoint.checkpoint.CheckpointLoadStatus at 0x1b3b7922c10>"
      ]
     },
     "execution_count": 33,
     "metadata": {},
     "output_type": "execute_result"
    }
   ],
   "source": [
    "# Load the pretrained model. This step is optional. \n",
    "vocab_size = len(vocab)\n",
    "embedding_dim = 256\n",
    "rnn_units = 512\n",
    "\n",
    "model = GRULM(\n",
    "    vocab_size=vocab_size,\n",
    "    embedding_dim=embedding_dim,\n",
    "    rnn_units = rnn_units)\n",
    "model.build(input_shape=(100, vocab_size))\n",
    "model.load_weights('./model/')"
   ]
  },
  {
   "cell_type": "markdown",
   "id": "6a6f315c-a1c9-4df2-8391-9bdbdf50290a",
   "metadata": {},
   "source": [
    "\n",
    "Now, we will use the 1000 lines of the corpus that were reserved at the begining of this notebook as test data. we will apply the same preprocessing as we did for the train dataset: get the numeric tensor from the input lines, and use the split_input_target to generate the inputs and the expected outputs.\n",
    "\n",
    "Second, we will predict the next characters for the whole dataset, and we will compute the perplexity for the expected outputs and the given predictions."
   ]
  },
  {
   "cell_type": "code",
   "execution_count": 34,
   "id": "872ef1ac-c784-4833-95fd-d6caa04d0b8e",
   "metadata": {},
   "outputs": [
    {
     "name": "stdout",
     "output_type": "stream",
     "text": [
      "The log perplexity and perplexity of our model are 1.2100799369743052 and 3.353752730680062 respectively\n"
     ]
    }
   ],
   "source": [
    "#for line in eval_lines[1:3]:\n",
    "eval_text = \"\\n\".join(eval_lines)\n",
    "eval_ids = line_to_tensor([eval_text], vocab)\n",
    "input_ids, target_ids = split_input_target(tf.squeeze(eval_ids, axis=0))\n",
    "\n",
    "preds, status = model(tf.expand_dims(input_ids, 0), training=False, states=None, return_state=True)\n",
    "\n",
    "#Get the log perplexity\n",
    "log_ppx = log_perplexity(preds, tf.expand_dims(target_ids, 0))\n",
    "print(f'The log perplexity and perplexity of our model are {log_ppx} and {np.exp(log_ppx)} respectively')"
   ]
  },
  {
   "cell_type": "markdown",
   "id": "e57c6a91-5f64-47c0-9a91-6a2a1db7ff73",
   "metadata": {},
   "source": [
    "So, the log perplexity of the model is 1.21. It is not an easy to interpret metric, but it can be used to compare among models. The smaller the value the better the model."
   ]
  },
  {
   "cell_type": "markdown",
   "id": "2247693a-661e-4b51-9165-f2818efe3417",
   "metadata": {},
   "source": [
    "<a name='5'></a>\n",
    "## 5 - Generating Language with our Own Model\n",
    "\n",
    "our GRULM model demonstrates an impressive ability to predict the most likely characters in a sequence, based on log scores. However, it's important to acknowledge that this model, in its default form, is deterministic and can result in repetitive and monotonous outputs. For instance, it tends to provide the same answer to a question consistently.\n",
    "\n",
    "To make our language model more dynamic and versatile, we can introduce an element of randomness into its predictions. This ensures that even if we feed the model in the same way each time, it will generate different sequences of text.\n",
    "\n",
    "To achieve this desired behavior, we can employ a technique known as random sampling. When presented with an array of log scores for the N characters in our dictionary, we add an array of random numbers to this data. The extent of randomness introduced into the predictions is regulated by a parameter called \"temperature\". By comparing the random numbers to the original input scores, the model adapts its choices, offering diversity in its outputs.\n",
    "\n",
    "This doesn't imply that the model produces entirely random results on each iteration. Rather, with each prediction, there is a probability associated with choosing a character other than the one with the highest score. This concept becomes more tangible when we explore the accompanying Python code."
   ]
  },
  {
   "cell_type": "code",
   "execution_count": 35,
   "id": "e075b1c4-9fe6-43f8-b281-781e6224a02b",
   "metadata": {},
   "outputs": [],
   "source": [
    "def temperature_random_sampling(log_probs, temperature=1.0):\n",
    "    \"\"\"Temperature Random sampling from a categorical distribution. The higher the temperature, the more \n",
    "       random the output. If temperature is close to 0, it means that the model will just return the index\n",
    "       of the character with the highest input log_score\n",
    "    \n",
    "    Args:\n",
    "        log_probs (tf.Tensor): The log scores for each characeter in the dictionary\n",
    "        temperature (number): A value to weight the random noise. \n",
    "    Returns:\n",
    "        int: The index of the selected character\n",
    "    \"\"\"\n",
    "   # Generate uniform random numbers with a slight offset to avoid log(0)\n",
    "    u = tf.random.uniform(minval=1e-6, maxval=1.0 - 1e-6, shape=log_probs.shape)\n",
    "    \n",
    "    # Apply the Gumbel distribution transformation for randomness\n",
    "    g = -tf.math.log(-tf.math.log(u))\n",
    "    \n",
    "    # Adjust the logits with the temperature and choose the character with the highest score\n",
    "    return tf.math.argmax(log_probs + g * temperature, axis=-1)"
   ]
  },
  {
   "cell_type": "markdown",
   "id": "938c2937-1679-48c8-9bf9-1460b8993839",
   "metadata": {},
   "source": [
    "Now, it's time to bring all the elements together for the exciting task of generating new text. The GenerativeModel class plays a pivotal role in this process, offering two essential functions:\n",
    "\n",
    "1. `generate_one_step`: This function is our go-to method for generating a single character at a time. It accepts two key inputs: an initial input sequence and a state that can be thought of as the ongoing context or memory of the model. The function delivers a single character prediction and an updated state, which can be used as the context for future predictions.\n",
    "\n",
    "2. `generate_n_chars`: This function takes text generation to the next level. It orchestrates the iterative generation of a sequence of characters. At each iteration, generate_one_step is called with the last generated character and the most recent state. This dynamic approach ensures that the generated text evolves organically, building upon the context and characters produced in previous steps. Each character generated in this process is collected and stored in the result list, forming the final output text.\n",
    "\n",
    "<a name='ex-6'></a>\n",
    "### Generative Model\n",
    "Implementing the One-Step Generator\n",
    "\n",
    "In this, we will create a function to generate a single character based on the input text, using the provided vocabulary and the trained model. Follow these steps to complete the generate_one_step function:\n",
    "\n",
    "1. Start by transforming our input text into a tensor using the given vocab. This will convert the text into a format that the model can understand.\n",
    "\n",
    "2. Utilize the trained model with the input_ids and the provided states to predict the next characters. Make sure to retrieve the updated states from this prediction because they are essential for the final output.\n",
    "\n",
    "3. Since we are only interested in the next character prediction, keep only the result for the last character in the sequence.\n",
    "\n",
    "4. Employ the temperature random sampling technique to convert the vector of scores into a single character prediction. For this step, we will use the predicted_logits obtained in the previous step and the temperature parameter of the model.\n",
    "\n",
    "5. To transform the numeric prediction into a human-readable character, use the text_from_ids function. Be mindful that text_from_ids expects a list as its input, so we need to wrap the output of the temperature_random_sampling function in square brackets [...]. Don't forget to use self.vocab as the second parameter for character mapping.\n",
    "\n",
    "6. Finally, return the predicted_chars, which will be a single character, and the states tensor obtained from step 2. These components are essential for maintaining the sequence and generating subsequent characters."
   ]
  },
  {
   "cell_type": "code",
   "execution_count": 36,
   "id": "9b03a8b3-2cf8-4c86-a9e1-6241c5a817c9",
   "metadata": {},
   "outputs": [],
   "source": [
    "# CLASS: GenerativeModel\n",
    "class GenerativeModel(tf.keras.Model):\n",
    "    def __init__(self, model, vocab, temperature=1.0):\n",
    "        \"\"\"\n",
    "        A generative model for text generation.\n",
    "\n",
    "        Args:\n",
    "            model (tf.keras.Model): The underlying model for text generation.\n",
    "            vocab (list): A list containing the vocabulary of unique characters.\n",
    "            temperature (float, optional): A value to control the randomness of text generation. Defaults to 1.0.\n",
    "        \"\"\"\n",
    "        super().__init__()\n",
    "        self.temperature = temperature\n",
    "        self.model = model\n",
    "        self.vocab = vocab\n",
    "    \n",
    "    @tf.function\n",
    "    def generate_one_step(self, inputs, states=None):\n",
    "        \"\"\"\n",
    "        Generate a single character and update the model state.\n",
    "\n",
    "        Args:\n",
    "            inputs (string): The input string to start with.\n",
    "            states (tf.Tensor): The state tensor.\n",
    "\n",
    "        Returns:\n",
    "            tf.Tensor, states: The predicted character and the current GRU state.\n",
    "        \"\"\"\n",
    "        # Convert strings to token IDs.\n",
    "        \n",
    "        ###\n",
    "\n",
    "        # Transform the inputs into tensors\n",
    "        input_ids = line_to_tensor(inputs, self.vocab)\n",
    "        # Predict the sequence for the given input_ids. Use the states and return_state=True\n",
    "        predicted_logits, states = self.model(input_ids, states=states, return_state = True)\n",
    "        # Get only last element of the sequence\n",
    "        predicted_logits = predicted_logits[0, -1, :]                      \n",
    "        # Use the temperature_random_sampling to generate the next character. \n",
    "        predicted_ids = temperature_random_sampling(predicted_logits, self.temperature)\n",
    "        # Use the chars_from_ids to transform the code into the correSponding char\n",
    "        predicted_chars = text_from_ids([predicted_ids], self.vocab)\n",
    "        \n",
    "        ###\n",
    "        \n",
    "        # Return the characters and model state.\n",
    "        return tf.expand_dims(predicted_chars, 0), states\n",
    "    \n",
    "    def generate_n_chars(self, num_chars, prefix):\n",
    "        \"\"\"\n",
    "        Generate a text sequence of a specified length, starting with a given prefix.\n",
    "\n",
    "        Args:\n",
    "            num_chars (int): The length of the output sequence.\n",
    "            prefix (string): The prefix of the sequence (also referred to as the seed).\n",
    "\n",
    "        Returns:\n",
    "            str: The generated text sequence.\n",
    "        \"\"\"\n",
    "        states = None\n",
    "        next_char = tf.constant([prefix])\n",
    "        result = [next_char]\n",
    "        for n in range(num_chars):\n",
    "            next_char, states = self.generate_one_step(next_char, states=states)\n",
    "            result.append(next_char)\n",
    "\n",
    "        return tf.strings.join(result)[0].numpy().decode('utf-8')"
   ]
  },
  {
   "cell_type": "code",
   "execution_count": 37,
   "id": "1ff70961-969e-4acd-8db0-49d426d390cc",
   "metadata": {},
   "outputs": [
    {
     "name": "stdout",
     "output_type": "stream",
     "text": [
      " me to come again,\n",
      "And when the f \n",
      "\n",
      "________________________________________________________________________________\n",
      "Dear souls fall into the sea to see  \n",
      "\n",
      "________________________________________________________________________________\n",
      "KING OF FRANCE\tThen therefore gentle \n",
      "\n",
      "________________________________________________________________________________\n"
     ]
    }
   ],
   "source": [
    "tf.random.set_seed(272)\n",
    "gen = GenerativeModel(model, vocab, temperature=0.5)\n",
    "\n",
    "print(gen.generate_n_chars(32, \" \"), '\\n\\n' + '_'*80)\n",
    "print(gen.generate_n_chars(32, \"Dear\"), '\\n\\n' + '_'*80)\n",
    "print(gen.generate_n_chars(32, \"KING\"), '\\n\\n' + '_'*80)"
   ]
  },
  {
   "cell_type": "markdown",
   "id": "1ca0138c-66a2-4e88-ac34-18ba0c9a5b5a",
   "metadata": {},
   "source": [
    "Now, generate a longer text. Let's check if it looks like Shakespeare fragment"
   ]
  },
  {
   "cell_type": "code",
   "execution_count": 38,
   "id": "410296a9-be0d-49f9-ad1a-a8ec179aef37",
   "metadata": {},
   "outputs": [
    {
     "name": "stdout",
     "output_type": "stream",
     "text": [
      "ROMEO the rest of Paris bears]\n",
      "QUEEN MARGARET\tBound put the sound of Edward hath a son.\n",
      "There is a little head a hundred knings; and\n",
      "That thou wilt not defend me: when, my lord,\n",
      "Then the man that I have done.\n",
      "First Senator\tSteel so forth this, when it is the kingdom,\n",
      "That was worthy the dead to think upon you:\n",
      "He is my ear. Take me to pardon me\n",
      "From woe her lords and good ones, with a shine.\n",
      "Then whoreson dead man with the behalf Pompey?\n",
      "The prince of God,\n",
      "This groan forlorn with her bottle hath\n",
      "The finly shall we bear with fears with servants as\n",
      "The city with the disportune doth not see\n",
      "The greater chain will be bestowed of hows,\n",
      "Our person by his service becomes the right.\n",
      "YORK\tHe was full of tail heaven. You left him calls,\n",
      "Your honour reigns to great mercy: I will betray\n",
      "The crime of France, that lately I met upon:\n",
      "They are sure that he was my wits at which never cannot\n",
      "With the next night I have welcome.\n",
      "CASSIUS\tThis is the hunter, stop the meaning of the wall.\n",
      "The music cannot cannot h \n",
      "\n",
      "________________________________________________________________________________\n",
      "\n",
      "Run time: 3.8976404666900635\n"
     ]
    }
   ],
   "source": [
    "tf.random.set_seed(np.random.randint(1, 1000))\n",
    "gen = GenerativeModel(model, vocab, temperature=0.8)\n",
    "import time\n",
    "start = time.time()\n",
    "print(gen.generate_n_chars(1000, \"ROMEO \"), '\\n\\n' + '_'*80)\n",
    "print('\\nRun time:', time.time() - start)"
   ]
  },
  {
   "cell_type": "markdown",
   "id": "e738df62-c991-4d84-b44b-ac02a905fe58",
   "metadata": {},
   "source": [
    "In the generated text above, we can see that the model generates text that makes sense capturing dependencies between words and without any input. A simple n-gram model would have not been able to capture all of that in one sentence."
   ]
  },
  {
   "cell_type": "markdown",
   "id": "de656d0d-dcb9-4527-bfeb-2ce808e10f9e",
   "metadata": {},
   "source": [
    "<a name='6'></a>\n",
    "###  On statistical methods\n",
    "\n",
    "Using a statistical method will not give you results that are as good as we saw here. our model will not be able to encode information seen previously in the data set and as a result, the perplexity will increase. Remember from Auto-Complete that the higher the perplexity, the worse our model is. Furthermore, statistical ngram models take up too much space and memory. As a result, they will be inefficient and too slow. Conversely, with deepnets, we can get a better perplexity. Note, learning about n-gram language models is still important and allows you to better understand deepnets."
   ]
  }
 ],
 "metadata": {
  "kernelspec": {
   "display_name": "Python 3 (ipykernel)",
   "language": "python",
   "name": "python3"
  },
  "language_info": {
   "codemirror_mode": {
    "name": "ipython",
    "version": 3
   },
   "file_extension": ".py",
   "mimetype": "text/x-python",
   "name": "python",
   "nbconvert_exporter": "python",
   "pygments_lexer": "ipython3",
   "version": "3.9.19"
  }
 },
 "nbformat": 4,
 "nbformat_minor": 5
}
